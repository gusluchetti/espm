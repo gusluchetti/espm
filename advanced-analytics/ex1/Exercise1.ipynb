{
 "cells": [
  {
   "cell_type": "markdown",
   "source": [
    "# Exercício 1 - Rede Neural Low Level Regressão Linear\n",
    "## Integrantes:\n",
    "- Caio Catarino - 11810982\n",
    "- Daniel Shimoda - 11811758\n",
    "- Gabriel Zamith - 11810979\n",
    "- Gustavo Luchetti - 11810745\n",
    "- Luka Bomura - 11810893\n",
    "- Pedro Malta - 11810781"
   ],
   "metadata": {}
  },
  {
   "cell_type": "code",
   "execution_count": 151,
   "source": [
    "import os \n",
    "os.environ['LD_LIBRARY_PATH'] = os.getcwd()\n",
    "\n",
    "import tensorflow as tf\n",
    "import tensorflow.compat.v1 as tf\n",
    "import numpy as np\n",
    "import pandas as pd\n",
    "import matplotlib.pyplot as plt\n",
    "import seaborn as sns\n",
    "# Make numpy printouts easier to read.\n",
    "tf.disable_v2_behavior()\n",
    "np.set_printoptions(precision=3, suppress=True)\n",
    "sns.set_style(\"darkgrid\")"
   ],
   "outputs": [],
   "metadata": {}
  },
  {
   "cell_type": "code",
   "execution_count": 152,
   "source": [
    "raw_dataset = pd.read_csv('provided_dataset.csv')"
   ],
   "outputs": [],
   "metadata": {}
  },
  {
   "cell_type": "code",
   "execution_count": 153,
   "source": [
    "dataset = raw_dataset.copy()\n",
    "dataset\n"
   ],
   "outputs": [
    {
     "output_type": "execute_result",
     "data": {
      "text/html": [
       "<div>\n",
       "<style scoped>\n",
       "    .dataframe tbody tr th:only-of-type {\n",
       "        vertical-align: middle;\n",
       "    }\n",
       "\n",
       "    .dataframe tbody tr th {\n",
       "        vertical-align: top;\n",
       "    }\n",
       "\n",
       "    .dataframe thead th {\n",
       "        text-align: right;\n",
       "    }\n",
       "</style>\n",
       "<table border=\"1\" class=\"dataframe\">\n",
       "  <thead>\n",
       "    <tr style=\"text-align: right;\">\n",
       "      <th></th>\n",
       "      <th>age</th>\n",
       "      <th>plan value</th>\n",
       "    </tr>\n",
       "  </thead>\n",
       "  <tbody>\n",
       "    <tr>\n",
       "      <th>0</th>\n",
       "      <td>18</td>\n",
       "      <td>871</td>\n",
       "    </tr>\n",
       "    <tr>\n",
       "      <th>1</th>\n",
       "      <td>23</td>\n",
       "      <td>1132</td>\n",
       "    </tr>\n",
       "    <tr>\n",
       "      <th>2</th>\n",
       "      <td>28</td>\n",
       "      <td>1042</td>\n",
       "    </tr>\n",
       "    <tr>\n",
       "      <th>3</th>\n",
       "      <td>33</td>\n",
       "      <td>1356</td>\n",
       "    </tr>\n",
       "    <tr>\n",
       "      <th>4</th>\n",
       "      <td>38</td>\n",
       "      <td>1488</td>\n",
       "    </tr>\n",
       "    <tr>\n",
       "      <th>5</th>\n",
       "      <td>43</td>\n",
       "      <td>1638</td>\n",
       "    </tr>\n",
       "    <tr>\n",
       "      <th>6</th>\n",
       "      <td>48</td>\n",
       "      <td>1569</td>\n",
       "    </tr>\n",
       "    <tr>\n",
       "      <th>7</th>\n",
       "      <td>53</td>\n",
       "      <td>1754</td>\n",
       "    </tr>\n",
       "    <tr>\n",
       "      <th>8</th>\n",
       "      <td>58</td>\n",
       "      <td>1866</td>\n",
       "    </tr>\n",
       "    <tr>\n",
       "      <th>9</th>\n",
       "      <td>63</td>\n",
       "      <td>1900</td>\n",
       "    </tr>\n",
       "  </tbody>\n",
       "</table>\n",
       "</div>"
      ],
      "text/plain": [
       "   age  plan value\n",
       "0   18         871\n",
       "1   23        1132\n",
       "2   28        1042\n",
       "3   33        1356\n",
       "4   38        1488\n",
       "5   43        1638\n",
       "6   48        1569\n",
       "7   53        1754\n",
       "8   58        1866\n",
       "9   63        1900"
      ]
     },
     "metadata": {},
     "execution_count": 153
    }
   ],
   "metadata": {}
  },
  {
   "cell_type": "code",
   "execution_count": 154,
   "source": [
    "#todo: convert pd dataframe into array of arrays\n",
    "X = np.array([[18], [23], [28], [33], [38], [43], [48], [53], [58], [63]])\n",
    "y = np.array([[871], [1132], [1042], [1356], [1488], [1638], [1569], [1754], [1866], [1900]])\n",
    "y"
   ],
   "outputs": [
    {
     "output_type": "execute_result",
     "data": {
      "text/plain": [
       "array([[ 871],\n",
       "       [1132],\n",
       "       [1042],\n",
       "       [1356],\n",
       "       [1488],\n",
       "       [1638],\n",
       "       [1569],\n",
       "       [1754],\n",
       "       [1866],\n",
       "       [1900]])"
      ]
     },
     "metadata": {},
     "execution_count": 154
    }
   ],
   "metadata": {}
  },
  {
   "cell_type": "code",
   "execution_count": 155,
   "source": [
    "from sklearn.preprocessing import StandardScaler\n",
    "scaler = StandardScaler()\n",
    "scaled_X = scaler.fit_transform(X)\n",
    "scaled_y = scaler.fit_transform(y)\n",
    "scaled_y"
   ],
   "outputs": [
    {
     "output_type": "execute_result",
     "data": {
      "text/plain": [
       "array([[-1.758],\n",
       "       [-0.981],\n",
       "       [-1.249],\n",
       "       [-0.314],\n",
       "       [ 0.079],\n",
       "       [ 0.525],\n",
       "       [ 0.32 ],\n",
       "       [ 0.87 ],\n",
       "       [ 1.203],\n",
       "       [ 1.305]])"
      ]
     },
     "metadata": {},
     "execution_count": 155
    }
   ],
   "metadata": {}
  },
  {
   "cell_type": "code",
   "execution_count": 156,
   "source": [
    "sns.scatterplot(data=dataset, x='age', y='plan value')"
   ],
   "outputs": [
    {
     "output_type": "execute_result",
     "data": {
      "text/plain": [
       "<AxesSubplot:xlabel='age', ylabel='plan value'>"
      ]
     },
     "metadata": {},
     "execution_count": 156
    },
    {
     "output_type": "display_data",
     "data": {
      "image/png": "[encoded data removed]",
      "text/plain": [
       "<Figure size 432x288 with 1 Axes>"
      ]
     },
     "metadata": {}
    }
   ],
   "metadata": {}
  },
  {
   "cell_type": "markdown",
   "source": [
    "## Linear Regression ==> y = b0 + b1 * x"
   ],
   "metadata": {}
  },
  {
   "cell_type": "code",
   "execution_count": 157,
   "source": [
    "# np random seeds\n",
    "np.random.seed(42)"
   ],
   "outputs": [],
   "metadata": {}
  },
  {
   "cell_type": "code",
   "execution_count": 158,
   "source": [
    "b0 = tf.Variable(0.35)\n",
    "b1 = tf.Variable(0.70)"
   ],
   "outputs": [],
   "metadata": {}
  },
  {
   "cell_type": "code",
   "execution_count": 159,
   "source": [
    "loss_function = tf.losses.mean_squared_error(scaled_y, (b0 + b1 * scaled_X))\n",
    "optimizer = tf.train.GradientDescentOptimizer(learning_rate=0.001)"
   ],
   "outputs": [],
   "metadata": {}
  },
  {
   "cell_type": "code",
   "execution_count": 160,
   "source": [
    "training = optimizer.minimize(loss_function)\n",
    "init = tf.global_variables_initializer()"
   ],
   "outputs": [],
   "metadata": {}
  },
  {
   "cell_type": "code",
   "execution_count": 161,
   "source": [
    "epochs = 10000\n",
    "\n",
    "with tf.Session() as sess:\n",
    "    sess.run(init)\n",
    "    for i in range(epochs):\n",
    "        sess.run(training)\n",
    "        \n",
    "    b0_final, b1_final = sess.run([b0, b1])"
   ],
   "outputs": [],
   "metadata": {}
  },
  {
   "cell_type": "code",
   "execution_count": 162,
   "source": [
    "print (b0_final, b1_final)"
   ],
   "outputs": [
    {
     "output_type": "stream",
     "name": "stdout",
     "text": [
      "4.27272e-10 0.9711764\n"
     ]
    }
   ],
   "metadata": {}
  },
  {
   "cell_type": "code",
   "execution_count": 163,
   "source": [
    "predictions = b0_final + b1_final * scaled_X\n",
    "predictions"
   ],
   "outputs": [
    {
     "output_type": "execute_result",
     "data": {
      "text/plain": [
       "array([[-1.522],\n",
       "       [-1.183],\n",
       "       [-0.845],\n",
       "       [-0.507],\n",
       "       [-0.169],\n",
       "       [ 0.169],\n",
       "       [ 0.507],\n",
       "       [ 0.845],\n",
       "       [ 1.183],\n",
       "       [ 1.522]])"
      ]
     },
     "metadata": {},
     "execution_count": 163
    }
   ],
   "metadata": {}
  },
  {
   "cell_type": "code",
   "execution_count": 164,
   "source": [
    "correct_predictions = scaler.inverse_transform(predictions)"
   ],
   "outputs": [
    {
     "output_type": "execute_result",
     "data": {
      "text/plain": [
       "array([[ 950.299],\n",
       "       [1063.921],\n",
       "       [1177.544],\n",
       "       [1291.166],\n",
       "       [1404.789],\n",
       "       [1518.411],\n",
       "       [1632.034],\n",
       "       [1745.656],\n",
       "       [1859.279],\n",
       "       [1972.901]])"
      ]
     },
     "metadata": {},
     "execution_count": 164
    }
   ],
   "metadata": {}
  },
  {
   "cell_type": "code",
   "execution_count": 165,
   "source": [
    "sns.scatterplot(data=dataset, x=\"age\", y=\"plan value\")\n",
    "plt.plot(X, correct_predictions, color = 'red')"
   ],
   "outputs": [
    {
     "output_type": "execute_result",
     "data": {
      "text/plain": [
       "[<matplotlib.lines.Line2D at 0x7f1470494d90>]"
      ]
     },
     "metadata": {},
     "execution_count": 165
    },
    {
     "output_type": "display_data",
     "data": {
      "image/png": "[encoded data removed]",
      "text/plain": [
       "<Figure size 432x288 with 1 Axes>"
      ]
     },
     "metadata": {}
    }
   ],
   "metadata": {}
  },
  {
   "cell_type": "code",
   "execution_count": 166,
   "source": [
    "sns.lmplot(x='age', y='plan value', data=dataset)"
   ],
   "outputs": [
    {
     "output_type": "execute_result",
     "data": {
      "text/plain": [
       "<seaborn.axisgrid.FacetGrid at 0x7f14704c2c70>"
      ]
     },
     "metadata": {},
     "execution_count": 166
    },
    {
     "output_type": "display_data",
     "data": {
      "image/png": "[encoded data removed]",
      "text/plain": [
       "<Figure size 360x360 with 1 Axes>"
      ]
     },
     "metadata": {}
    }
   ],
   "metadata": {}
  }
 ],
 "metadata": {
  "kernelspec": {
   "name": "python3",
   "display_name": "Python 3.8.10 64-bit ('venv': venv)"
  },
  "language_info": {
   "codemirror_mode": {
    "name": "ipython",
    "version": 3
   },
   "file_extension": ".py",
   "mimetype": "text/x-python",
   "name": "python",
   "nbconvert_exporter": "python",
   "pygments_lexer": "ipython3",
   "version": "3.8.10"
  },
  "interpreter": {
   "hash": "792d6d480af5e14b211f819eb9ac3971350acf31e7761a8b95bac2d5af34343c"
  }
 },
 "nbformat": 4,
 "nbformat_minor": 5
}
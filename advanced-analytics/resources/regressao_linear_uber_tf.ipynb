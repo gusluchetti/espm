{
  "nbformat": 4,
  "nbformat_minor": 0,
  "metadata": {
    "colab": {
      "name": "regressao_linear_uber_mlp_resposta.ipynb",
      "provenance": []
    },
    "kernelspec": {
      "name": "python3",
      "display_name": "Python 3"
    }
  },
  "cells": [
    {
      "cell_type": "markdown",
      "metadata": {
        "id": "mQYW2ZqF1Xu-"
      },
      "source": [
        "Exercíco\n",
        "\n",
        "Em grupo para os data sets:\n",
        "\n",
        "X -> tempo médio de espera do Uber por distrito da cidade de São Paulo\n",
        "\n",
        "y -> renda média percapta distrito da cidade de São Paulo\n",
        "\n",
        "Faça uma rede neural utlizando regressão linear simples, rode para 1500, 2500, 3500 e 5000 épocas.\n",
        "\n",
        "Compare os erros MAE e MSE de cada rodada escolha o melhor modelo e justifique\n",
        "\n",
        "\"X = np.array([[188], [185], [471], [188], [183],[196],[183],[204],[211],[221],[494],[243],[417],[197],[187],[213],[219],[249],[220],[175],[193],[230],[268],[218],[279],[187],[223],[234],[222],[575],[245],[381],[187],[185],[220],[188],[208],[220],[220],[219],[352],[357],[232],[182],[307],[259],[231],[187],[191],[200],[354],[971],[180],[196],[220],[694],[196],[264],[334],[179],[177],[365],[180],[254],[174],[269],[206],[242],[216],[198],[197],[199],[240],[207],[214],[199],[315],[217],[173],[231],[219],[173],[499],[199],[227],[201],[192],[188],[197],[208],[199],[179],[175],[191],[199],[218]]\"\n",
        "\n",
        "\"y = np.array ([[1355],[3984],[528],[795],[740],[2698],[2546],[1319],[933],[969],[502],[2106],[689],[1722],[3231],[1769],[722],[690],[541],[1236],[1128],[649],[687],[690],[407],[3788],[1488],[635],[976],[451],[516],[426],[1527],[4134],[435],[620],[1233],[708],[980],[1212],[558],[427],[416],[4707],[599],[570],[412],[2463],[2102],[958],[1265],[347],[4968],[1892],[4085],[404],[963],[673],[524],[1030],[3300],[473],[3727],[965],[772],[791],[1530],[1349],[913],[2230],[2026],[3034],[931],[880],[608],[602],[452],[545],[2570],[909],[1868],[2159],[720],[1279],[1960],[503],[1260],[1212],[538],[2943],[822],[3757],[986],[724],[1188],[1759]]\"\n",
        "\n"
      ]
    },
    {
      "cell_type": "code",
      "metadata": {
        "id": "1tV1XE1gNE7S"
      },
      "source": [
        "import numpy as np\n",
        "X = np.array([[188], [185], [471], [188], [183],[196],[183],[204],[211],[221],[494],[243],[417],[197],[187],[213],[219],[249],[220],[175],[193],[230],[268],[218],[279],[187],[223],[234],[222],[575],[245],[381],[187],[185],[220],[188],[208],[220],[220],[219],[352],[357],[232],[182],[307],[259],[231],[187],[191],[200],[354],[971],[180],[196],[220],[694],[196],[264],[334],[179],[177],[365],[180],[254],[174],[269],[206],[242],[216],[198],[197],[199],[240],[207],[214],[199],[315],[217],[173],[231],[219],[173],[499],[199],[227],[201],[192],[188],[197],[208],[199],[179],[175],[191],[199],[218]])\n",
        "y = np.array ([[1355],[3984],[528],[795],[740],[2698],[2546],[1319],[933],[969],[502],[2106],[689],[1722],[3231],[1769],[722],[690],[541],[1236],[1128],[649],[687],[690],[407],[3788],[1488],[635],[976],[451],[516],[426],[1527],[4134],[435],[620],[1233],[708],[980],[1212],[558],[427],[416],[4707],[599],[570],[412],[2463],[2102],[958],[1265],[347],[4968],[1892],[4085],[404],[963],[673],[524],[1030],[3300],[473],[3727],[965],[772],[791],[1530],[1349],[913],[2230],[2026],[3034],[931],[880],[608],[602],[452],[545],[2570],[909],[1868],[2159],[720],[1279],[1960],[503],[1260],[1212],[538],[2943],[822],[3757],[986],[724],[1188],[1759]])\n"
      ],
      "execution_count": 13,
      "outputs": []
    },
    {
      "cell_type": "markdown",
      "metadata": {
        "id": "Oyx1jVjDOxvn"
      },
      "source": [
        "Para trabalhar com regressão e redes neurais pracisamos fazer a padronização da das variáveis de entrada, todas precisam estar na mesma escala."
      ]
    },
    {
      "cell_type": "code",
      "metadata": {
        "id": "dXnXSkFBPWxD"
      },
      "source": [
        "from sklearn.preprocessing import StandardScaler\n",
        "# chamando a lib StandardScaler podemos usar o metodo fit_transform que irá padronizar as variáveis \n",
        "scaler_x = StandardScaler()\n",
        "X = scaler_x.fit_transform(X)"
      ],
      "execution_count": 14,
      "outputs": []
    },
    {
      "cell_type": "code",
      "metadata": {
        "id": "5jcdzGRDPaeM",
        "colab": {
          "base_uri": "https://localhost:8080/"
        },
        "outputId": "a596cf75-917b-4786-8981-ffb0b0d0e712"
      },
      "source": [
        "X"
      ],
      "execution_count": 15,
      "outputs": [
        {
          "output_type": "execute_result",
          "data": {
            "text/plain": [
              "array([[-0.5143737 ],\n",
              "       [-0.54026771],\n",
              "       [ 1.9282945 ],\n",
              "       [-0.5143737 ],\n",
              "       [-0.55753039],\n",
              "       [-0.44532301],\n",
              "       [-0.55753039],\n",
              "       [-0.37627232],\n",
              "       [-0.31585297],\n",
              "       [-0.2295396 ],\n",
              "       [ 2.12681524],\n",
              "       [-0.0396502 ],\n",
              "       [ 1.46220233],\n",
              "       [-0.43669168],\n",
              "       [-0.52300504],\n",
              "       [-0.29859029],\n",
              "       [-0.24680228],\n",
              "       [ 0.01213782],\n",
              "       [-0.23817094],\n",
              "       [-0.62658108],\n",
              "       [-0.47121702],\n",
              "       [-0.15185757],\n",
              "       [ 0.17613321],\n",
              "       [-0.25543361],\n",
              "       [ 0.27107791],\n",
              "       [-0.52300504],\n",
              "       [-0.21227693],\n",
              "       [-0.11733223],\n",
              "       [-0.22090827],\n",
              "       [ 2.82595348],\n",
              "       [-0.02238753],\n",
              "       [ 1.15147422],\n",
              "       [-0.52300504],\n",
              "       [-0.54026771],\n",
              "       [-0.23817094],\n",
              "       [-0.5143737 ],\n",
              "       [-0.34174698],\n",
              "       [-0.23817094],\n",
              "       [-0.23817094],\n",
              "       [-0.24680228],\n",
              "       [ 0.90116547],\n",
              "       [ 0.94432215],\n",
              "       [-0.1345949 ],\n",
              "       [-0.56616172],\n",
              "       [ 0.51275533],\n",
              "       [ 0.09845118],\n",
              "       [-0.14322624],\n",
              "       [-0.52300504],\n",
              "       [-0.48847969],\n",
              "       [-0.41079767],\n",
              "       [ 0.91842814],\n",
              "       [ 6.2439627 ],\n",
              "       [-0.58342439],\n",
              "       [-0.44532301],\n",
              "       [-0.23817094],\n",
              "       [ 3.85308252],\n",
              "       [-0.44532301],\n",
              "       [ 0.14160786],\n",
              "       [ 0.74580141],\n",
              "       [-0.59205573],\n",
              "       [-0.6093184 ],\n",
              "       [ 1.01337284],\n",
              "       [-0.58342439],\n",
              "       [ 0.0552945 ],\n",
              "       [-0.63521241],\n",
              "       [ 0.18476454],\n",
              "       [-0.35900965],\n",
              "       [-0.04828154],\n",
              "       [-0.27269628],\n",
              "       [-0.42806034],\n",
              "       [-0.43669168],\n",
              "       [-0.419429  ],\n",
              "       [-0.06554421],\n",
              "       [-0.35037831],\n",
              "       [-0.28995896],\n",
              "       [-0.419429  ],\n",
              "       [ 0.58180602],\n",
              "       [-0.26406495],\n",
              "       [-0.64384375],\n",
              "       [-0.14322624],\n",
              "       [-0.24680228],\n",
              "       [-0.64384375],\n",
              "       [ 2.16997192],\n",
              "       [-0.419429  ],\n",
              "       [-0.17775158],\n",
              "       [-0.40216633],\n",
              "       [-0.47984836],\n",
              "       [-0.5143737 ],\n",
              "       [-0.43669168],\n",
              "       [-0.34174698],\n",
              "       [-0.419429  ],\n",
              "       [-0.59205573],\n",
              "       [-0.62658108],\n",
              "       [-0.48847969],\n",
              "       [-0.419429  ],\n",
              "       [-0.25543361]])"
            ]
          },
          "metadata": {},
          "execution_count": 15
        }
      ]
    },
    {
      "cell_type": "code",
      "metadata": {
        "id": "ZYbRnjY5Pbz-"
      },
      "source": [
        "scaler_y = StandardScaler()\n",
        "y = scaler_y.fit_transform(y)"
      ],
      "execution_count": 16,
      "outputs": []
    },
    {
      "cell_type": "code",
      "metadata": {
        "id": "mczh7lP8PeXx",
        "colab": {
          "base_uri": "https://localhost:8080/"
        },
        "outputId": "355b992f-be4f-46f3-b3a7-1e91027cc646"
      },
      "source": [
        "y"
      ],
      "execution_count": 17,
      "outputs": [
        {
          "output_type": "execute_result",
          "data": {
            "text/plain": [
              "array([[-0.03186385],\n",
              "       [ 2.38095499],\n",
              "       [-0.79086011],\n",
              "       [-0.54581537],\n",
              "       [-0.59629275],\n",
              "       [ 1.20070203],\n",
              "       [ 1.06120091],\n",
              "       [-0.06490359],\n",
              "       [-0.41916303],\n",
              "       [-0.38612329],\n",
              "       [-0.81472215],\n",
              "       [ 0.65738185],\n",
              "       [-0.64309905],\n",
              "       [ 0.30495795],\n",
              "       [ 1.68987375],\n",
              "       [ 0.34809317],\n",
              "       [-0.61281262],\n",
              "       [-0.64218128],\n",
              "       [-0.77892909],\n",
              "       [-0.14107855],\n",
              "       [-0.24019777],\n",
              "       [-0.67980987],\n",
              "       [-0.64493459],\n",
              "       [-0.64218128],\n",
              "       [-0.90191035],\n",
              "       [ 2.20107196],\n",
              "       [ 0.09019964],\n",
              "       [-0.69265866],\n",
              "       [-0.37969889],\n",
              "       [-0.86152844],\n",
              "       [-0.80187336],\n",
              "       [-0.88447271],\n",
              "       [ 0.12599269],\n",
              "       [ 2.51862058],\n",
              "       [-0.87621277],\n",
              "       [-0.70642522],\n",
              "       [-0.14383186],\n",
              "       [-0.62566141],\n",
              "       [-0.37602781],\n",
              "       [-0.16310504],\n",
              "       [-0.76332699],\n",
              "       [-0.88355494],\n",
              "       [-0.89365042],\n",
              "       [ 3.04450311],\n",
              "       [-0.7256984 ],\n",
              "       [-0.75231375],\n",
              "       [-0.8973215 ],\n",
              "       [ 0.98502595],\n",
              "       [ 0.65371077],\n",
              "       [-0.39621876],\n",
              "       [-0.1144632 ],\n",
              "       [-0.95697658],\n",
              "       [ 3.28404123],\n",
              "       [ 0.46097895],\n",
              "       [ 2.47364982],\n",
              "       [-0.90466366],\n",
              "       [-0.39162991],\n",
              "       [-0.65778338],\n",
              "       [-0.79453119],\n",
              "       [-0.33013928],\n",
              "       [ 1.75319992],\n",
              "       [-0.84133749],\n",
              "       [ 2.14508795],\n",
              "       [-0.38979437],\n",
              "       [-0.56692409],\n",
              "       [-0.54948645],\n",
              "       [ 0.128746  ],\n",
              "       [-0.03737047],\n",
              "       [-0.43751844],\n",
              "       [ 0.7711854 ],\n",
              "       [ 0.58396021],\n",
              "       [ 1.50907294],\n",
              "       [-0.42099857],\n",
              "       [-0.46780487],\n",
              "       [-0.71743847],\n",
              "       [-0.72294509],\n",
              "       [-0.86061067],\n",
              "       [-0.77525801],\n",
              "       [ 1.0832274 ],\n",
              "       [-0.44118952],\n",
              "       [ 0.43895246],\n",
              "       [ 0.70602369],\n",
              "       [-0.61464816],\n",
              "       [-0.10161441],\n",
              "       [ 0.52338735],\n",
              "       [-0.81380438],\n",
              "       [-0.11905205],\n",
              "       [-0.16310504],\n",
              "       [-0.78168241],\n",
              "       [ 1.42555582],\n",
              "       [-0.52103556],\n",
              "       [ 2.17262107],\n",
              "       [-0.37052119],\n",
              "       [-0.61097708],\n",
              "       [-0.18513153],\n",
              "       [ 0.33891546]])"
            ]
          },
          "metadata": {},
          "execution_count": 17
        }
      ]
    },
    {
      "cell_type": "code",
      "metadata": {
        "id": "WbZA64UOMkSn"
      },
      "source": [
        "import pandas as pd\n",
        "\n",
        "dfx = pd.DataFrame(X, columns=['X'])\n",
        "\n",
        "dfy = pd.DataFrame(y, columns=['y'])\n",
        "dfy.to_csv('y_scaler')\n",
        "dfx.to_csv('x_scaler')"
      ],
      "execution_count": 18,
      "outputs": []
    },
    {
      "cell_type": "code",
      "metadata": {
        "id": "C2MhUJWTP19F",
        "colab": {
          "base_uri": "https://localhost:8080/",
          "height": 284
        },
        "outputId": "22720fe0-a844-476e-9110-63e69109b9bf"
      },
      "source": [
        "import matplotlib.pyplot as plt\n",
        "%matplotlib inline\n",
        "plt.scatter(X,y)"
      ],
      "execution_count": 19,
      "outputs": [
        {
          "output_type": "execute_result",
          "data": {
            "text/plain": [
              "<matplotlib.collections.PathCollection at 0x7fee7023c3d0>"
            ]
          },
          "metadata": {},
          "execution_count": 19
        },
        {
          "output_type": "display_data",
          "data": {
            "image/png": "[encoded data removed]",
            "text/plain": [
              "<Figure size 432x288 with 1 Axes>"
            ]
          },
          "metadata": {
            "needs_background": "light"
          }
        }
      ]
    },
    {
      "cell_type": "markdown",
      "metadata": {
        "id": "5f1K0LF2QKz0"
      },
      "source": [
        "## Fórmula da regressão linear simples\n",
        "\n",
        "y = b0 + b1*x\n",
        "\n",
        "O objetivo de uma regressão linear simples é encontar os coeficientes da relação, ou seja, b0 e b1, a rede neural treinada por varias épocas testará varios coeficientes diferentes e com o auxilio do losserror e da função de otmização da descida do gradiente ela tende a convergir para a solução ótima   "
      ]
    },
    {
      "cell_type": "code",
      "metadata": {
        "id": "7aDXgVUpRAjo",
        "colab": {
          "base_uri": "https://localhost:8080/"
        },
        "outputId": "c5f4c980-68d4-44c7-9ced-55f62f644337"
      },
      "source": [
        "# sorteia aleatoriamente com uma semente para repetir os resultados futuramente\n",
        "np.random.seed(0)\n",
        "np.random.rand(2)"
      ],
      "execution_count": 25,
      "outputs": [
        {
          "output_type": "execute_result",
          "data": {
            "text/plain": [
              "array([0.5488135 , 0.71518937])"
            ]
          },
          "metadata": {},
          "execution_count": 25
        }
      ]
    },
    {
      "cell_type": "code",
      "metadata": {
        "id": "sFQAcgKHSOEx"
      },
      "source": [
        "import tensorflow as tf\n",
        "# faz o compilador se comportar como TF_V1\n",
        "import tensorflow.compat.v1 as tf\n",
        "tf.disable_v2_behavior()"
      ],
      "execution_count": 26,
      "outputs": []
    },
    {
      "cell_type": "code",
      "metadata": {
        "id": "8guRvRvMSQfi"
      },
      "source": [
        "# inicio as duas variááveis com valores aleatóórios \n",
        "b0 = tf.Variable(0.54)\n",
        "b1 = tf.Variable(0.71)"
      ],
      "execution_count": 27,
      "outputs": []
    },
    {
      "cell_type": "code",
      "metadata": {
        "id": "UmhNZOmySTLx"
      },
      "source": [
        "\n",
        "\n",
        "# diferente da rede neural em camadas, uma rede neural que simula uma regressão linear precisa apenas de uma camada onde a função \n",
        "# de perda é calculada a partir da equacão teorica da regreção y = b0 + b1*x\n",
        "erro = tf.losses.mean_squared_error(y, (b0 + b1 * X))\n",
        "\n",
        "\n",
        "# calcula os novos pesos para a rede (descida do gradiente) o parametro learning_rate é a taxa de aprendizado (obs: normalmente utilizamos 0,001)\n",
        "otimizador = tf.train.GradientDescentOptimizer(learning_rate = 0.001)\n",
        "\n",
        "# programa o treinamento da rede\n",
        "treinamento = otimizador.minimize(erro)\n",
        "init = tf.global_variables_initializer()"
      ],
      "execution_count": 28,
      "outputs": []
    },
    {
      "cell_type": "code",
      "metadata": {
        "id": "cCZ5CnnGTnU9"
      },
      "source": [
        "with tf.Session() as sess:\n",
        "    sess.run(init)\n",
        "    #for i in range(1000):\n",
        "    for i in range(10000):\n",
        "        sess.run(treinamento)\n",
        "    b0_final, b1_final = sess.run([b0, b1])"
      ],
      "execution_count": 38,
      "outputs": []
    },
    {
      "cell_type": "code",
      "metadata": {
        "id": "a-kBZpCJTrmF",
        "colab": {
          "base_uri": "https://localhost:8080/"
        },
        "outputId": "e21da88f-2ca8-43b0-e40e-591e80407142"
      },
      "source": [
        "b0_final"
      ],
      "execution_count": 39,
      "outputs": [
        {
          "output_type": "execute_result",
          "data": {
            "text/plain": [
              "1.180223e-09"
            ]
          },
          "metadata": {},
          "execution_count": 39
        }
      ]
    },
    {
      "cell_type": "code",
      "metadata": {
        "id": "UgBCfVCQTsJO",
        "colab": {
          "base_uri": "https://localhost:8080/"
        },
        "outputId": "f92cf7ce-7b70-4916-cd1f-eddc5ba16b78"
      },
      "source": [
        "b1_final"
      ],
      "execution_count": 40,
      "outputs": [
        {
          "output_type": "execute_result",
          "data": {
            "text/plain": [
              "-0.36034748"
            ]
          },
          "metadata": {},
          "execution_count": 40
        }
      ]
    },
    {
      "cell_type": "code",
      "metadata": {
        "id": "cnn89vNmTvcv",
        "colab": {
          "base_uri": "https://localhost:8080/"
        },
        "outputId": "a2acbe6d-9267-482c-97f2-10a3154e8f8b"
      },
      "source": [
        "# faço a conta com a fórmula da regressão\n",
        "previsoes = b0_final + b1_final * X\n",
        "previsoes"
      ],
      "execution_count": 41,
      "outputs": [
        {
          "output_type": "execute_result",
          "data": {
            "text/plain": [
              "array([[ 0.18535327],\n",
              "       [ 0.19468411],\n",
              "       [-0.69485606],\n",
              "       [ 0.18535327],\n",
              "       [ 0.20090467],\n",
              "       [ 0.16047103],\n",
              "       [ 0.20090467],\n",
              "       [ 0.13558878],\n",
              "       [ 0.11381682],\n",
              "       [ 0.08271402],\n",
              "       [-0.76639251],\n",
              "       [ 0.01428785],\n",
              "       [-0.52690092],\n",
              "       [ 0.15736075],\n",
              "       [ 0.18846355],\n",
              "       [ 0.10759626],\n",
              "       [ 0.08893458],\n",
              "       [-0.00437383],\n",
              "       [ 0.0858243 ],\n",
              "       [ 0.22578691],\n",
              "       [ 0.16980187],\n",
              "       [ 0.0547215 ],\n",
              "       [-0.06346916],\n",
              "       [ 0.09204486],\n",
              "       [-0.09768224],\n",
              "       [ 0.18846355],\n",
              "       [ 0.07649346],\n",
              "       [ 0.04228037],\n",
              "       [ 0.07960374],\n",
              "       [-1.01832521],\n",
              "       [ 0.00806729],\n",
              "       [-0.41493083],\n",
              "       [ 0.18846355],\n",
              "       [ 0.19468411],\n",
              "       [ 0.0858243 ],\n",
              "       [ 0.18535327],\n",
              "       [ 0.12314766],\n",
              "       [ 0.0858243 ],\n",
              "       [ 0.0858243 ],\n",
              "       [ 0.08893458],\n",
              "       [-0.3247327 ],\n",
              "       [-0.3402841 ],\n",
              "       [ 0.04850093],\n",
              "       [ 0.20401495],\n",
              "       [-0.18477009],\n",
              "       [-0.03547663],\n",
              "       [ 0.05161122],\n",
              "       [ 0.18846355],\n",
              "       [ 0.17602243],\n",
              "       [ 0.14802991],\n",
              "       [-0.33095326],\n",
              "       [-2.24999622],\n",
              "       [ 0.21023551],\n",
              "       [ 0.16047103],\n",
              "       [ 0.0858243 ],\n",
              "       [-1.38844857],\n",
              "       [ 0.16047103],\n",
              "       [-0.05102804],\n",
              "       [-0.26874766],\n",
              "       [ 0.21334579],\n",
              "       [ 0.21956635],\n",
              "       [-0.36516635],\n",
              "       [ 0.21023551],\n",
              "       [-0.01992523],\n",
              "       [ 0.22889719],\n",
              "       [-0.06657944],\n",
              "       [ 0.12936822],\n",
              "       [ 0.01739813],\n",
              "       [ 0.09826542],\n",
              "       [ 0.15425047],\n",
              "       [ 0.15736075],\n",
              "       [ 0.15114019],\n",
              "       [ 0.02361869],\n",
              "       [ 0.12625794],\n",
              "       [ 0.10448598],\n",
              "       [ 0.15114019],\n",
              "       [-0.20965233],\n",
              "       [ 0.09515514],\n",
              "       [ 0.23200747],\n",
              "       [ 0.05161122],\n",
              "       [ 0.08893458],\n",
              "       [ 0.23200747],\n",
              "       [-0.78194391],\n",
              "       [ 0.15114019],\n",
              "       [ 0.06405234],\n",
              "       [ 0.14491962],\n",
              "       [ 0.17291215],\n",
              "       [ 0.18535327],\n",
              "       [ 0.15736075],\n",
              "       [ 0.12314766],\n",
              "       [ 0.15114019],\n",
              "       [ 0.21334579],\n",
              "       [ 0.22578691],\n",
              "       [ 0.17602243],\n",
              "       [ 0.15114019],\n",
              "       [ 0.09204486]])"
            ]
          },
          "metadata": {},
          "execution_count": 41
        }
      ]
    },
    {
      "cell_type": "code",
      "metadata": {
        "id": "btBbucX3TyKl",
        "colab": {
          "base_uri": "https://localhost:8080/",
          "height": 284
        },
        "outputId": "6c554ef2-2ef1-46ad-dcf7-54567beb08f9"
      },
      "source": [
        "plt.plot(X, previsoes, color = 'red')\n",
        "plt.plot(X, y, 'o')"
      ],
      "execution_count": 42,
      "outputs": [
        {
          "output_type": "execute_result",
          "data": {
            "text/plain": [
              "[<matplotlib.lines.Line2D at 0x7fee2a792a90>]"
            ]
          },
          "metadata": {},
          "execution_count": 42
        },
        {
          "output_type": "display_data",
          "data": {
            "image/png": "[encoded data removed]",
            "text/plain": [
              "<Figure size 432x288 with 1 Axes>"
            ]
          },
          "metadata": {
            "needs_background": "light"
          }
        }
      ]
    },
    {
      "cell_type": "code",
      "metadata": {
        "id": "fj9xrvKEV7By",
        "colab": {
          "base_uri": "https://localhost:8080/"
        },
        "outputId": "19d149ee-9e99-43b4-de5d-8294ee5b16a6"
      },
      "source": [
        "# desnormaliza os dados voltando para escala original \n",
        "y1 = scaler_y.inverse_transform(y)\n",
        "y1"
      ],
      "execution_count": 24,
      "outputs": [
        {
          "output_type": "execute_result",
          "data": {
            "text/plain": [
              "array([[1355.],\n",
              "       [3984.],\n",
              "       [ 528.],\n",
              "       [ 795.],\n",
              "       [ 740.],\n",
              "       [2698.],\n",
              "       [2546.],\n",
              "       [1319.],\n",
              "       [ 933.],\n",
              "       [ 969.],\n",
              "       [ 502.],\n",
              "       [2106.],\n",
              "       [ 689.],\n",
              "       [1722.],\n",
              "       [3231.],\n",
              "       [1769.],\n",
              "       [ 722.],\n",
              "       [ 690.],\n",
              "       [ 541.],\n",
              "       [1236.],\n",
              "       [1128.],\n",
              "       [ 649.],\n",
              "       [ 687.],\n",
              "       [ 690.],\n",
              "       [ 407.],\n",
              "       [3788.],\n",
              "       [1488.],\n",
              "       [ 635.],\n",
              "       [ 976.],\n",
              "       [ 451.],\n",
              "       [ 516.],\n",
              "       [ 426.],\n",
              "       [1527.],\n",
              "       [4134.],\n",
              "       [ 435.],\n",
              "       [ 620.],\n",
              "       [1233.],\n",
              "       [ 708.],\n",
              "       [ 980.],\n",
              "       [1212.],\n",
              "       [ 558.],\n",
              "       [ 427.],\n",
              "       [ 416.],\n",
              "       [4707.],\n",
              "       [ 599.],\n",
              "       [ 570.],\n",
              "       [ 412.],\n",
              "       [2463.],\n",
              "       [2102.],\n",
              "       [ 958.],\n",
              "       [1265.],\n",
              "       [ 347.],\n",
              "       [4968.],\n",
              "       [1892.],\n",
              "       [4085.],\n",
              "       [ 404.],\n",
              "       [ 963.],\n",
              "       [ 673.],\n",
              "       [ 524.],\n",
              "       [1030.],\n",
              "       [3300.],\n",
              "       [ 473.],\n",
              "       [3727.],\n",
              "       [ 965.],\n",
              "       [ 772.],\n",
              "       [ 791.],\n",
              "       [1530.],\n",
              "       [1349.],\n",
              "       [ 913.],\n",
              "       [2230.],\n",
              "       [2026.],\n",
              "       [3034.],\n",
              "       [ 931.],\n",
              "       [ 880.],\n",
              "       [ 608.],\n",
              "       [ 602.],\n",
              "       [ 452.],\n",
              "       [ 545.],\n",
              "       [2570.],\n",
              "       [ 909.],\n",
              "       [1868.],\n",
              "       [2159.],\n",
              "       [ 720.],\n",
              "       [1279.],\n",
              "       [1960.],\n",
              "       [ 503.],\n",
              "       [1260.],\n",
              "       [1212.],\n",
              "       [ 538.],\n",
              "       [2943.],\n",
              "       [ 822.],\n",
              "       [3757.],\n",
              "       [ 986.],\n",
              "       [ 724.],\n",
              "       [1188.],\n",
              "       [1759.]])"
            ]
          },
          "metadata": {},
          "execution_count": 24
        }
      ]
    },
    {
      "cell_type": "code",
      "metadata": {
        "id": "ZiZgZByyWMIM",
        "colab": {
          "base_uri": "https://localhost:8080/"
        },
        "outputId": "94c21c97-87ce-4211-fb2b-536af90b5e4f"
      },
      "source": [
        "# desnormaliza os dados voltando para escala original \n",
        "previsoes1 = scaler_y.inverse_transform(previsoes)\n",
        "previsoes1"
      ],
      "execution_count": 25,
      "outputs": [
        {
          "output_type": "execute_result",
          "data": {
            "text/plain": [
              "array([[1.59012894e+03],\n",
              "       [1.59621719e+03],\n",
              "       [1.01580435e+03],\n",
              "       [1.59012894e+03],\n",
              "       [1.60027602e+03],\n",
              "       [1.57389362e+03],\n",
              "       [1.60027602e+03],\n",
              "       [1.55765829e+03],\n",
              "       [1.54345239e+03],\n",
              "       [1.52315823e+03],\n",
              "       [9.69127792e+02],\n",
              "       [1.47851109e+03],\n",
              "       [1.12539279e+03],\n",
              "       [1.57186420e+03],\n",
              "       [1.59215836e+03],\n",
              "       [1.53939355e+03],\n",
              "       [1.52721706e+03],\n",
              "       [1.46633460e+03],\n",
              "       [1.52518765e+03],\n",
              "       [1.61651134e+03],\n",
              "       [1.57998187e+03],\n",
              "       [1.50489349e+03],\n",
              "       [1.42777570e+03],\n",
              "       [1.52924648e+03],\n",
              "       [1.40545213e+03],\n",
              "       [1.59215836e+03],\n",
              "       [1.51909940e+03],\n",
              "       [1.49677583e+03],\n",
              "       [1.52112882e+03],\n",
              "       [8.04745135e+02],\n",
              "       [1.47445226e+03],\n",
              "       [1.19845175e+03],\n",
              "       [1.59215836e+03],\n",
              "       [1.59621719e+03],\n",
              "       [1.52518765e+03],\n",
              "       [1.59012894e+03],\n",
              "       [1.54954063e+03],\n",
              "       [1.52518765e+03],\n",
              "       [1.52518765e+03],\n",
              "       [1.52721706e+03],\n",
              "       [1.25730480e+03],\n",
              "       [1.24715772e+03],\n",
              "       [1.50083466e+03],\n",
              "       [1.60230544e+03],\n",
              "       [1.34862850e+03],\n",
              "       [1.44604044e+03],\n",
              "       [1.50286408e+03],\n",
              "       [1.59215836e+03],\n",
              "       [1.58404070e+03],\n",
              "       [1.56577596e+03],\n",
              "       [1.25324597e+03],\n",
              "       [1.09658710e+00],\n",
              "       [1.60636427e+03],\n",
              "       [1.57389362e+03],\n",
              "       [1.52518765e+03],\n",
              "       [5.63244687e+02],\n",
              "       [1.57389362e+03],\n",
              "       [1.43589336e+03],\n",
              "       [1.29383428e+03],\n",
              "       [1.60839368e+03],\n",
              "       [1.61245251e+03],\n",
              "       [1.23092240e+03],\n",
              "       [1.60636427e+03],\n",
              "       [1.45618752e+03],\n",
              "       [1.61854076e+03],\n",
              "       [1.42574629e+03],\n",
              "       [1.55359946e+03],\n",
              "       [1.48054050e+03],\n",
              "       [1.53330531e+03],\n",
              "       [1.56983479e+03],\n",
              "       [1.57186420e+03],\n",
              "       [1.56780537e+03],\n",
              "       [1.48459934e+03],\n",
              "       [1.55157005e+03],\n",
              "       [1.53736414e+03],\n",
              "       [1.56780537e+03],\n",
              "       [1.33239317e+03],\n",
              "       [1.53127589e+03],\n",
              "       [1.62057018e+03],\n",
              "       [1.50286408e+03],\n",
              "       [1.52721706e+03],\n",
              "       [1.62057018e+03],\n",
              "       [9.58980715e+02],\n",
              "       [1.56780537e+03],\n",
              "       [1.51098174e+03],\n",
              "       [1.56374654e+03],\n",
              "       [1.58201128e+03],\n",
              "       [1.59012894e+03],\n",
              "       [1.57186420e+03],\n",
              "       [1.54954063e+03],\n",
              "       [1.56780537e+03],\n",
              "       [1.60839368e+03],\n",
              "       [1.61651134e+03],\n",
              "       [1.58404070e+03],\n",
              "       [1.56780537e+03],\n",
              "       [1.52924648e+03]])"
            ]
          },
          "metadata": {},
          "execution_count": 25
        }
      ]
    },
    {
      "cell_type": "code",
      "metadata": {
        "id": "cfo4xNxrWZkD"
      },
      "source": [
        "# calcula os erros do modelo \n",
        "from sklearn.metrics import mean_absolute_error, mean_squared_error\n",
        "mae = mean_absolute_error(y1, previsoes1)\n",
        "mse = mean_squared_error(y1, previsoes1)"
      ],
      "execution_count": null,
      "outputs": []
    },
    {
      "cell_type": "code",
      "metadata": {
        "id": "Fe9jRnezWbom",
        "colab": {
          "base_uri": "https://localhost:8080/",
          "height": 34
        },
        "outputId": "77f5594f-4d36-4509-805b-4196880bb1f8"
      },
      "source": [
        "#Mean absolute error – MAE\n",
        "mae"
      ],
      "execution_count": null,
      "outputs": [
        {
          "output_type": "execute_result",
          "data": {
            "text/plain": [
              "787.1664928744034"
            ]
          },
          "metadata": {
            "tags": []
          },
          "execution_count": 80
        }
      ]
    },
    {
      "cell_type": "code",
      "metadata": {
        "id": "FxU5evpcWbgf",
        "colab": {
          "base_uri": "https://localhost:8080/",
          "height": 34
        },
        "outputId": "871bed37-9a60-4fba-d6d1-1844dd5cb4bc"
      },
      "source": [
        "#Mean squared error – MSE\n",
        "mse"
      ],
      "execution_count": null,
      "outputs": [
        {
          "output_type": "execute_result",
          "data": {
            "text/plain": [
              "1033054.0799038172"
            ]
          },
          "metadata": {
            "tags": []
          },
          "execution_count": 81
        }
      ]
    }
  ]
}
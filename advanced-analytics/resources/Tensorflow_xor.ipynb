{
  "nbformat": 4,
  "nbformat_minor": 0,
  "metadata": {
    "colab": {
      "name": "Tensorflow 032022.ipynb",
      "provenance": []
    },
    "kernelspec": {
      "name": "python3",
      "display_name": "Python 3"
    },
    "language_info": {
      "name": "python"
    }
  },
  "cells": [
    {
      "cell_type": "markdown",
      "metadata": {
        "id": "G1PYld-R_7zg"
      },
      "source": [
        "variavel_1 | variavel_2 | resultado esperado\n",
        "---------  | ---------  |  ---------\n",
        "     0    |      0     |           1\n",
        "     0    |       1     |           0\n",
        "     1    |       0     |           0\n",
        "     0    |       0     |           1"
      ]
    },
    {
      "cell_type": "code",
      "metadata": {
        "colab": {
          "base_uri": "https://localhost:8080/"
        },
        "id": "DrmMSvZ5_6u6",
        "outputId": "7b0802b5-080e-40dc-9775-5519629b2588"
      },
      "source": [
        "pip install tensorflow"
      ],
      "execution_count": null,
      "outputs": [
        {
          "output_type": "stream",
          "text": [
            "Requirement already satisfied: tensorflow in /usr/local/lib/python3.7/dist-packages (2.4.1)\n",
            "Requirement already satisfied: gast==0.3.3 in /usr/local/lib/python3.7/dist-packages (from tensorflow) (0.3.3)\n",
            "Requirement already satisfied: h5py~=2.10.0 in /usr/local/lib/python3.7/dist-packages (from tensorflow) (2.10.0)\n",
            "Requirement already satisfied: typing-extensions~=3.7.4 in /usr/local/lib/python3.7/dist-packages (from tensorflow) (3.7.4.3)\n",
            "Requirement already satisfied: termcolor~=1.1.0 in /usr/local/lib/python3.7/dist-packages (from tensorflow) (1.1.0)\n",
            "Requirement already satisfied: google-pasta~=0.2 in /usr/local/lib/python3.7/dist-packages (from tensorflow) (0.2.0)\n",
            "Requirement already satisfied: wheel~=0.35 in /usr/local/lib/python3.7/dist-packages (from tensorflow) (0.36.2)\n",
            "Requirement already satisfied: tensorflow-estimator<2.5.0,>=2.4.0 in /usr/local/lib/python3.7/dist-packages (from tensorflow) (2.4.0)\n",
            "Requirement already satisfied: six~=1.15.0 in /usr/local/lib/python3.7/dist-packages (from tensorflow) (1.15.0)\n",
            "Requirement already satisfied: flatbuffers~=1.12.0 in /usr/local/lib/python3.7/dist-packages (from tensorflow) (1.12)\n",
            "Requirement already satisfied: grpcio~=1.32.0 in /usr/local/lib/python3.7/dist-packages (from tensorflow) (1.32.0)\n",
            "Requirement already satisfied: astunparse~=1.6.3 in /usr/local/lib/python3.7/dist-packages (from tensorflow) (1.6.3)\n",
            "Requirement already satisfied: protobuf>=3.9.2 in /usr/local/lib/python3.7/dist-packages (from tensorflow) (3.12.4)\n",
            "Requirement already satisfied: keras-preprocessing~=1.1.2 in /usr/local/lib/python3.7/dist-packages (from tensorflow) (1.1.2)\n",
            "Requirement already satisfied: numpy~=1.19.2 in /usr/local/lib/python3.7/dist-packages (from tensorflow) (1.19.5)\n",
            "Requirement already satisfied: absl-py~=0.10 in /usr/local/lib/python3.7/dist-packages (from tensorflow) (0.10.0)\n",
            "Requirement already satisfied: opt-einsum~=3.3.0 in /usr/local/lib/python3.7/dist-packages (from tensorflow) (3.3.0)\n",
            "Requirement already satisfied: wrapt~=1.12.1 in /usr/local/lib/python3.7/dist-packages (from tensorflow) (1.12.1)\n",
            "Requirement already satisfied: tensorboard~=2.4 in /usr/local/lib/python3.7/dist-packages (from tensorflow) (2.4.1)\n",
            "Requirement already satisfied: setuptools in /usr/local/lib/python3.7/dist-packages (from protobuf>=3.9.2->tensorflow) (54.0.0)\n",
            "Requirement already satisfied: google-auth-oauthlib<0.5,>=0.4.1 in /usr/local/lib/python3.7/dist-packages (from tensorboard~=2.4->tensorflow) (0.4.3)\n",
            "Requirement already satisfied: tensorboard-plugin-wit>=1.6.0 in /usr/local/lib/python3.7/dist-packages (from tensorboard~=2.4->tensorflow) (1.8.0)\n",
            "Requirement already satisfied: werkzeug>=0.11.15 in /usr/local/lib/python3.7/dist-packages (from tensorboard~=2.4->tensorflow) (1.0.1)\n",
            "Requirement already satisfied: markdown>=2.6.8 in /usr/local/lib/python3.7/dist-packages (from tensorboard~=2.4->tensorflow) (3.3.4)\n",
            "Requirement already satisfied: google-auth<2,>=1.6.3 in /usr/local/lib/python3.7/dist-packages (from tensorboard~=2.4->tensorflow) (1.27.1)\n",
            "Requirement already satisfied: requests<3,>=2.21.0 in /usr/local/lib/python3.7/dist-packages (from tensorboard~=2.4->tensorflow) (2.23.0)\n",
            "Requirement already satisfied: requests-oauthlib>=0.7.0 in /usr/local/lib/python3.7/dist-packages (from google-auth-oauthlib<0.5,>=0.4.1->tensorboard~=2.4->tensorflow) (1.3.0)\n",
            "Requirement already satisfied: importlib-metadata; python_version < \"3.8\" in /usr/local/lib/python3.7/dist-packages (from markdown>=2.6.8->tensorboard~=2.4->tensorflow) (3.7.2)\n",
            "Requirement already satisfied: pyasn1-modules>=0.2.1 in /usr/local/lib/python3.7/dist-packages (from google-auth<2,>=1.6.3->tensorboard~=2.4->tensorflow) (0.2.8)\n",
            "Requirement already satisfied: rsa<5,>=3.1.4; python_version >= \"3.6\" in /usr/local/lib/python3.7/dist-packages (from google-auth<2,>=1.6.3->tensorboard~=2.4->tensorflow) (4.7.2)\n",
            "Requirement already satisfied: cachetools<5.0,>=2.0.0 in /usr/local/lib/python3.7/dist-packages (from google-auth<2,>=1.6.3->tensorboard~=2.4->tensorflow) (4.2.1)\n",
            "Requirement already satisfied: urllib3!=1.25.0,!=1.25.1,<1.26,>=1.21.1 in /usr/local/lib/python3.7/dist-packages (from requests<3,>=2.21.0->tensorboard~=2.4->tensorflow) (1.24.3)\n",
            "Requirement already satisfied: chardet<4,>=3.0.2 in /usr/local/lib/python3.7/dist-packages (from requests<3,>=2.21.0->tensorboard~=2.4->tensorflow) (3.0.4)\n",
            "Requirement already satisfied: idna<3,>=2.5 in /usr/local/lib/python3.7/dist-packages (from requests<3,>=2.21.0->tensorboard~=2.4->tensorflow) (2.10)\n",
            "Requirement already satisfied: certifi>=2017.4.17 in /usr/local/lib/python3.7/dist-packages (from requests<3,>=2.21.0->tensorboard~=2.4->tensorflow) (2020.12.5)\n",
            "Requirement already satisfied: oauthlib>=3.0.0 in /usr/local/lib/python3.7/dist-packages (from requests-oauthlib>=0.7.0->google-auth-oauthlib<0.5,>=0.4.1->tensorboard~=2.4->tensorflow) (3.1.0)\n",
            "Requirement already satisfied: zipp>=0.5 in /usr/local/lib/python3.7/dist-packages (from importlib-metadata; python_version < \"3.8\"->markdown>=2.6.8->tensorboard~=2.4->tensorflow) (3.4.1)\n",
            "Requirement already satisfied: pyasn1<0.5.0,>=0.4.6 in /usr/local/lib/python3.7/dist-packages (from pyasn1-modules>=0.2.1->google-auth<2,>=1.6.3->tensorboard~=2.4->tensorflow) (0.4.8)\n"
          ],
          "name": "stdout"
        }
      ]
    },
    {
      "cell_type": "code",
      "metadata": {
        "id": "6tbkwaOBAOlV"
      },
      "source": [
        "import tensorflow as tf\n",
        "import numpy as np"
      ],
      "execution_count": 1,
      "outputs": []
    },
    {
      "cell_type": "code",
      "metadata": {
        "colab": {
          "base_uri": "https://localhost:8080/"
        },
        "id": "pu4BcbZPAXjA",
        "outputId": "3e44ae2c-1150-4be5-ca08-043906ece5b7"
      },
      "source": [
        "import tensorflow.compat.v1 as tf\n",
        "tf.disable_v2_behavior()\n"
      ],
      "execution_count": 2,
      "outputs": [
        {
          "output_type": "stream",
          "name": "stdout",
          "text": [
            "WARNING:tensorflow:From /usr/local/lib/python3.7/dist-packages/tensorflow/python/compat/v2_compat.py:101: disable_resource_variables (from tensorflow.python.ops.variable_scope) is deprecated and will be removed in a future version.\n",
            "Instructions for updating:\n",
            "non-resource variables are not supported in the long term\n"
          ]
        }
      ]
    },
    {
      "cell_type": "code",
      "metadata": {
        "colab": {
          "base_uri": "https://localhost:8080/"
        },
        "id": "o-1-frAuA-tD",
        "outputId": "cc310727-67fb-4530-a2fe-985234b123b9"
      },
      "source": [
        "X = np.array([[0,0], [0,1], [1,0], [1,1]])\n",
        "\n",
        "X"
      ],
      "execution_count": 3,
      "outputs": [
        {
          "output_type": "execute_result",
          "data": {
            "text/plain": [
              "array([[0, 0],\n",
              "       [0, 1],\n",
              "       [1, 0],\n",
              "       [1, 1]])"
            ]
          },
          "metadata": {},
          "execution_count": 3
        }
      ]
    },
    {
      "cell_type": "code",
      "metadata": {
        "colab": {
          "base_uri": "https://localhost:8080/"
        },
        "id": "hQgsgGnpBRZr",
        "outputId": "5e24c57a-b02e-47f9-c6e8-591a1d4dadeb"
      },
      "source": [
        "y = np.array([[1], [0], [0], [1]])\n",
        "y"
      ],
      "execution_count": 4,
      "outputs": [
        {
          "output_type": "execute_result",
          "data": {
            "text/plain": [
              "array([[1],\n",
              "       [0],\n",
              "       [0],\n",
              "       [1]])"
            ]
          },
          "metadata": {},
          "execution_count": 4
        }
      ]
    },
    {
      "cell_type": "code",
      "metadata": {
        "id": "yziEgT8ZBgMJ"
      },
      "source": [
        "neuronio_entrada = 2\n",
        "neuronio_oculta = 3\n",
        "neuronio_saida = 1"
      ],
      "execution_count": 5,
      "outputs": []
    },
    {
      "cell_type": "code",
      "metadata": {
        "id": "K8mIA0ScCHoC"
      },
      "source": [
        "W = {'oculta': tf.Variable(tf.random.normal([neuronio_entrada, neuronio_oculta]), name='w_oculta'),\n",
        "     'saida': tf.Variable(tf.random.normal([neuronio_oculta, neuronio_saida]), name= 'w_saida')\n",
        "     }"
      ],
      "execution_count": 6,
      "outputs": []
    },
    {
      "cell_type": "code",
      "metadata": {
        "colab": {
          "base_uri": "https://localhost:8080/"
        },
        "id": "sTCRnS7NDsX8",
        "outputId": "24644449-15b8-4777-d638-890521e5de05"
      },
      "source": [
        "type(W)\n",
        "type(W['oculta'])\n",
        "W['oculta']\n",
        "W['saida']"
      ],
      "execution_count": 7,
      "outputs": [
        {
          "output_type": "execute_result",
          "data": {
            "text/plain": [
              "<tf.Variable 'w_saida:0' shape=(3, 1) dtype=float32_ref>"
            ]
          },
          "metadata": {},
          "execution_count": 7
        }
      ]
    },
    {
      "cell_type": "code",
      "metadata": {
        "id": "6LlpPENoEOGH"
      },
      "source": [
        "b = {'oculta': tf.Variable(tf.random.normal([neuronio_oculta]), name='b_oculta'),\n",
        "     'saida': tf.Variable(tf.random.normal([neuronio_saida]), name='b_saida')\n",
        "     }"
      ],
      "execution_count": 8,
      "outputs": []
    },
    {
      "cell_type": "code",
      "metadata": {
        "id": "LzyIT5OoE7pc"
      },
      "source": [
        "xph = tf.placeholder(tf.float32, [4, neuronio_entrada], name='xph')\n",
        "yph = tf.placeholder(tf.float32, [4, neuronio_saida], name='yph')\n",
        "\n"
      ],
      "execution_count": 9,
      "outputs": []
    },
    {
      "cell_type": "code",
      "metadata": {
        "id": "fmx8NXi1GSaY"
      },
      "source": [
        "camada_oculta = tf.add(tf.matmul(xph, W['oculta']), b['oculta'])\n",
        "camada_oculta_ativacao = tf.sigmoid(camada_oculta)\n",
        "camada_saida = tf.add(tf.matmul(camada_oculta_ativacao, W['saida']), b['saida'])\n",
        "camada_saida_ativacao = tf.sigmoid(camada_saida)\n",
        "\n",
        "erro = tf.losses.mean_squared_error(yph, camada_saida_ativacao)\n",
        "\n",
        "otimizador = tf.train.GradientDescentOptimizer(learning_rate=0.3).minimize(erro)\n"
      ],
      "execution_count": 10,
      "outputs": []
    },
    {
      "cell_type": "code",
      "metadata": {
        "id": "yxa7wjV3K_nq"
      },
      "source": [
        "init = tf.global_variables_initializer()"
      ],
      "execution_count": 11,
      "outputs": []
    },
    {
      "cell_type": "code",
      "metadata": {
        "colab": {
          "base_uri": "https://localhost:8080/"
        },
        "id": "GM-HsV0CLKyM",
        "outputId": "db62fb01-f006-499b-faed-a64e550aac92"
      },
      "source": [
        "with tf.Session() as sess:\n",
        "  sess.run(init)\n",
        "  for epocas in range(10000):\n",
        "    erro_medio = 0\n",
        "    _, custo = sess.run([otimizador, erro], feed_dict = {xph: X, yph: y})\n",
        "    if epocas % 200 == 0:\n",
        "      erro_medio += custo/4\n",
        "      print(erro_medio)\n",
        "  \n",
        "  W_final, b_final = sess.run([W, b])"
      ],
      "execution_count": 12,
      "outputs": [
        {
          "output_type": "stream",
          "name": "stdout",
          "text": [
            "0.09111682325601578\n",
            "0.062400490045547485\n",
            "0.06137168034911156\n",
            "0.060063041746616364\n",
            "0.05792403966188431\n",
            "0.054534442722797394\n",
            "0.04978480190038681\n",
            "0.04360932856798172\n",
            "0.035322487354278564\n",
            "0.02539280243217945\n",
            "0.016916511580348015\n",
            "0.011371444910764694\n",
            "0.008030329830944538\n",
            "0.0059779975563287735\n",
            "0.004653455223888159\n",
            "0.0037537456955760717\n",
            "0.003114426974207163\n",
            "0.002642581006512046\n",
            "0.0022831617388874292\n",
            "0.0020020550582557917\n",
            "0.0017772738356143236\n",
            "0.0015941187739372253\n",
            "0.0014424542896449566\n",
            "0.0013151103630661964\n",
            "0.0012068835785612464\n",
            "0.001113920472562313\n",
            "0.0010333149693906307\n",
            "0.0009628408588469028\n",
            "0.0009007628541439772\n",
            "0.0008457099320366979\n",
            "0.0007965925615280867\n",
            "0.0007525295950472355\n",
            "0.0007128011202439666\n",
            "0.0006768169696442783\n",
            "0.0006440860452130437\n",
            "0.0006142001366242766\n",
            "0.0005868131993338466\n",
            "0.0005616318085230887\n",
            "0.0005384095711633563\n",
            "0.0005169291980564594\n",
            "0.000497009779792279\n",
            "0.00047848891699686646\n",
            "0.0004612308111973107\n",
            "0.00044511182932183146\n",
            "0.0004300256841816008\n",
            "0.0004158796218689531\n",
            "0.0004025896196253598\n",
            "0.0003900816955137998\n",
            "0.0003782921121455729\n",
            "0.0003671604208648205\n"
          ]
        }
      ]
    },
    {
      "cell_type": "code",
      "metadata": {
        "colab": {
          "base_uri": "https://localhost:8080/"
        },
        "id": "1opTIt6yNMgk",
        "outputId": "187fd155-422f-4641-d1cf-4226284c24cf"
      },
      "source": [
        "W_final"
      ],
      "execution_count": 13,
      "outputs": [
        {
          "output_type": "execute_result",
          "data": {
            "text/plain": [
              "{'oculta': array([[-5.312353 , -3.8612218,  4.6707273],\n",
              "        [-2.8751757, -5.668987 , -5.1804075]], dtype=float32),\n",
              " 'saida': array([[-7.397238 ],\n",
              "        [ 8.072645 ],\n",
              "        [-5.2706604]], dtype=float32)}"
            ]
          },
          "metadata": {},
          "execution_count": 13
        }
      ]
    },
    {
      "cell_type": "code",
      "metadata": {
        "colab": {
          "base_uri": "https://localhost:8080/"
        },
        "id": "UNxcoWCVNVAB",
        "outputId": "01d01ae4-779b-4086-b2ac-852630b13264"
      },
      "source": [
        "b_final"
      ],
      "execution_count": 14,
      "outputs": [
        {
          "output_type": "execute_result",
          "data": {
            "text/plain": [
              "{'oculta': array([ 5.776861 ,  1.9815758, -3.2874038], dtype=float32),\n",
              " 'saida': array([3.8051622], dtype=float32)}"
            ]
          },
          "metadata": {},
          "execution_count": 14
        }
      ]
    },
    {
      "cell_type": "markdown",
      "metadata": {
        "id": "DYam0QWEfO3O"
      },
      "source": [
        "# Usando o algoritmo"
      ]
    },
    {
      "cell_type": "code",
      "metadata": {
        "id": "nSL7Y7dFfYAh"
      },
      "source": [
        "camada_oculta_teste = tf.add(tf.matmul(xph, W_final['oculta']), b_final['oculta'])\n",
        "camada_oculta_ativacao_teste = tf.sigmoid(camada_oculta_teste)\n",
        "camada_saida_teste = tf.add(tf.matmul(camada_oculta_ativacao_teste, W_final['saida']), b_final['saida'])\n",
        "camada_saida_ativacao_teste = tf.sigmoid(camada_saida_teste)"
      ],
      "execution_count": 15,
      "outputs": []
    },
    {
      "cell_type": "code",
      "metadata": {
        "colab": {
          "base_uri": "https://localhost:8080/"
        },
        "id": "O84ZLh3Xhm2Y",
        "outputId": "52ef9c14-24b2-4a4b-861d-983d96390b71"
      },
      "source": [
        "with tf.Session() as sess:\n",
        "  sess.run(init)\n",
        "  print(sess.run(camada_saida_ativacao_teste, feed_dict={xph: X}))\n",
        "\n"
      ],
      "execution_count": 16,
      "outputs": [
        {
          "output_type": "stream",
          "name": "stdout",
          "text": [
            "[[0.96563125]\n",
            " [0.04693902]\n",
            " [0.02018708]\n",
            " [0.95624864]]\n"
          ]
        }
      ]
    }
  ]
}
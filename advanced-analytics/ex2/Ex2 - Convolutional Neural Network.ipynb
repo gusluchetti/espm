{
 "cells": [
  {
   "cell_type": "code",
   "execution_count": null,
   "id": "5d221879",
   "metadata": {},
   "outputs": [],
   "source": [
    "import os"
   ]
  },
  {
   "cell_type": "code",
   "execution_count": null,
   "id": "3050cb2a",
   "metadata": {},
   "outputs": [],
   "source": [
    "## more comments"
   ]
  },
  {
   "cell_type": "markdown",
   "id": "59bf9b23",
   "metadata": {},
   "source": [
    "# test"
   ]
  }
 ],
 "metadata": {
  "kernelspec": {
   "display_name": "advanced-analytics",
   "language": "python",
   "name": "advanced-analytics"
  },
  "language_info": {
   "codemirror_mode": {
    "name": "ipython",
    "version": 3
   },
   "file_extension": ".py",
   "mimetype": "text/x-python",
   "name": "python",
   "nbconvert_exporter": "python",
   "pygments_lexer": "ipython3",
   "version": "3.8.8"
  }
 },
 "nbformat": 4,
 "nbformat_minor": 5
}
